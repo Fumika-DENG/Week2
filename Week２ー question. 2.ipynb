{
 "cells": [
  {
   "cell_type": "code",
   "execution_count": null,
   "id": "c3f0658a-ad32-46a8-851a-495f465f01ef",
   "metadata": {},
   "outputs": [],
   "source": [
    "##ハッシュ値の計算に時間がかかる\n",
    "　#ハッシュテーブルでは、検索や追加の時キーからハッシュ値を計算する必要がある。その計算自体に時間がかかる。一方、木構造は単純に値を比較していくだけなので、計算コストが少ない。\n",
    "\n",
    "##データの順序を保持できる\n",
    "　#ハッシュテーブルはデータの順序を保持しないが、木構造は小さい順・大きい順に並んだ状態でデータを管理できる。これにより、範囲検索やソートされた出力が簡単にできる。\n",
    "\n",
    "##リハッシュが不要\n",
    "　#ハッシュテーブルは、データ数が増えるとrehashの操作を行ってサイズを変更する必要がある。その時にすべてのデータを再配置するため、時間と計算資源を消費する。木構造はそのような操作が不要で、動的に成長できる。"
   ]
  }
 ],
 "metadata": {
  "kernelspec": {
   "display_name": "Python 3 (ipykernel)",
   "language": "python",
   "name": "python3"
  },
  "language_info": {
   "codemirror_mode": {
    "name": "ipython",
    "version": 3
   },
   "file_extension": ".py",
   "mimetype": "text/x-python",
   "name": "python",
   "nbconvert_exporter": "python",
   "pygments_lexer": "ipython3",
   "version": "3.12.4"
  }
 },
 "nbformat": 4,
 "nbformat_minor": 5
}
