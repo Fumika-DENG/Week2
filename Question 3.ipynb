{
 "cells": [
  {
   "cell_type": "code",
   "execution_count": null,
   "id": "ca01391e-b008-4b79-aa67-3a2fd59cddac",
   "metadata": {},
   "outputs": [],
   "source": [
    "### Question 3 \n",
    "\n",
    "  ##\n",
    "  最初は、キャッシュされたページに順番をつけるために、「一番古いページには値1を、追加されるたびに +=1 する」という方法を考えました。\n",
    "こうすることで、数値の大小を比較すれば、どのページが最新か・最古かを判断できると思ったからです。\n",
    "\n",
    "  しかし、この方法は[比較対象を線形に探す必要があり、計算量が o(n)になってしまうこと。]という問題があると気づきました：\n",
    "\n",
    "  ##\n",
    "  その後、メンターとのオフィスアワーでアドバイスをいただき、ハッシュテーブルに双方向連結リスト（double linked list）を組み込む方法を学びました。\n",
    "\n",
    "  この方法では、各nodeに 'prev'（前のnode）と next（次のnode）を持たせ、アクセスされたノードをリストの先頭に移動するようにします。\n",
    "たとえば、キャッシュに A → B → C の順でページがあるときに B を削除する場合:\n",
    "\n",
    "* 'B.prev.next = B.next'\n",
    "* 'B.next.prev = B.prev'\n",
    "\n",
    "  のように、B の前後のnode同士をつなげ直すことで、B を O(1) で削除することができます。\n",
    "\n",
    "この構造により、\n",
    "\n",
    "* 検索はハッシュテーブルで O(1)\n",
    "* 順序の管理と更新は双方向リストで O(1)\n",
    "\n",
    "  となり、全体として非常に効率的なキャッシュシステムが実現できました。\n"
   ]
  }
 ],
 "metadata": {
  "kernelspec": {
   "display_name": "Python 3 (ipykernel)",
   "language": "python",
   "name": "python3"
  },
  "language_info": {
   "codemirror_mode": {
    "name": "ipython",
    "version": 3
   },
   "file_extension": ".py",
   "mimetype": "text/x-python",
   "name": "python",
   "nbconvert_exporter": "python",
   "pygments_lexer": "ipython3",
   "version": "3.12.4"
  }
 },
 "nbformat": 4,
 "nbformat_minor": 5
}
